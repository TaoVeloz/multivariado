{
  "nbformat": 4,
  "nbformat_minor": 0,
  "metadata": {
    "colab": {
      "name": "Untitled0.ipynb",
      "provenance": []
    },
    "kernelspec": {
      "name": "python3",
      "display_name": "Python 3"
    },
    "language_info": {
      "name": "python"
    }
  },
  "cells": [
    {
      "cell_type": "code",
      "metadata": {
        "colab": {
          "base_uri": "https://localhost:8080/"
        },
        "id": "tvnT6ihD6-An",
        "outputId": "7884ab6f-589d-4d8d-ddae-72ca1252caf0"
      },
      "source": [
        "# Cargamos librerias\n",
        "\n",
        "from sklearn.cluster import MiniBatchKMeans\n",
        "\n",
        "import seaborn as sns\n",
        "\n",
        "iris = sns.load_dataset(\"iris\")\n",
        "dataset = iris\n",
        "print(dataset.head(5))"
      ],
      "execution_count": 1,
      "outputs": [
        {
          "output_type": "stream",
          "name": "stdout",
          "text": [
            "   sepal_length  sepal_width  petal_length  petal_width species\n",
            "0           5.1          3.5           1.4          0.2  setosa\n",
            "1           4.9          3.0           1.4          0.2  setosa\n",
            "2           4.7          3.2           1.3          0.2  setosa\n",
            "3           4.6          3.1           1.5          0.2  setosa\n",
            "4           5.0          3.6           1.4          0.2  setosa\n"
          ]
        }
      ]
    },
    {
      "cell_type": "code",
      "metadata": {
        "colab": {
          "base_uri": "https://localhost:8080/"
        },
        "id": "LzfaVFvDWnVH",
        "outputId": "4aa71e81-7b82-4188-b2cc-ac4aeb058ed1"
      },
      "source": [
        "X = dataset.drop('species', axis=1)\n",
        "kmeans = MiniBatchKMeans(n_clusters=4, batch_size=8).fit(X)\n",
        "print(\"Centros totales: \", len(kmeans.cluster_centers_))\n",
        "print(\"=\" * 64)\n",
        "print(dataset.head(5))\n",
        "\n",
        "print(kmeans.predict(X))\n",
        "\n",
        "dataset['group'] = kmeans.predict(X)"
      ],
      "execution_count": 2,
      "outputs": [
        {
          "output_type": "stream",
          "name": "stdout",
          "text": [
            "Centros totales:  4\n",
            "================================================================\n",
            "   sepal_length  sepal_width  petal_length  petal_width species\n",
            "0           5.1          3.5           1.4          0.2  setosa\n",
            "1           4.9          3.0           1.4          0.2  setosa\n",
            "2           4.7          3.2           1.3          0.2  setosa\n",
            "3           4.6          3.1           1.5          0.2  setosa\n",
            "4           5.0          3.6           1.4          0.2  setosa\n",
            "[0 0 0 0 0 0 0 0 0 0 0 0 0 0 0 0 0 0 0 0 0 0 0 0 0 0 0 0 0 0 0 0 0 0 0 0 0\n",
            " 0 0 0 0 0 0 0 0 0 0 0 0 0 3 3 3 2 3 2 3 2 3 2 2 2 2 3 2 3 2 2 3 2 3 2 3 3\n",
            " 3 3 3 3 3 2 2 2 2 3 2 3 3 3 2 2 2 3 2 2 2 2 2 3 2 2 1 3 1 3 1 1 2 1 1 1 3\n",
            " 3 1 3 3 1 1 1 1 3 1 3 1 3 1 1 3 3 1 1 1 1 1 3 3 1 1 3 3 1 1 1 3 1 1 1 3 3\n",
            " 1 3]\n"
          ]
        }
      ]
    },
    {
      "cell_type": "code",
      "metadata": {
        "colab": {
          "base_uri": "https://localhost:8080/"
        },
        "id": "ijgfAXLTW53T",
        "outputId": "fc10130c-859f-4b11-a50f-ba0de2ebffde"
      },
      "source": [
        "# Mean Shift\n",
        "\n",
        "from sklearn.cluster import MeanShift\n",
        "\n",
        "iris = sns.load_dataset(\"iris\")\n",
        "dataset = iris\n",
        "dataset.head(5)\n",
        "\n",
        "X = dataset.drop('species', axis=1)\n",
        "\n",
        "meanshift = MeanShift().fit(X)\n",
        "print(meanshift.labels_)\n",
        "len(meanshift.labels_)"
      ],
      "execution_count": 3,
      "outputs": [
        {
          "output_type": "stream",
          "name": "stdout",
          "text": [
            "[1 1 1 1 1 1 1 1 1 1 1 1 1 1 1 1 1 1 1 1 1 1 1 1 1 1 1 1 1 1 1 1 1 1 1 1 1\n",
            " 1 1 1 1 1 1 1 1 1 1 1 1 1 0 0 0 0 0 0 0 0 0 0 0 0 0 0 0 0 0 0 0 0 0 0 0 0\n",
            " 0 0 0 0 0 0 0 0 0 0 0 0 0 0 0 0 0 0 0 0 0 0 0 0 1 0 0 0 0 0 0 0 0 0 0 0 0\n",
            " 0 0 0 0 0 0 0 0 0 0 0 0 0 0 0 0 0 0 0 0 0 0 0 0 0 0 0 0 0 0 0 0 0 0 0 0 0\n",
            " 0 0]\n"
          ]
        },
        {
          "output_type": "execute_result",
          "data": {
            "text/plain": [
              "150"
            ]
          },
          "metadata": {},
          "execution_count": 3
        }
      ]
    },
    {
      "cell_type": "markdown",
      "metadata": {
        "id": "v5jlEQjIXP5s"
      },
      "source": [
        "\n",
        "\n",
        "Analisis de componentes principales\n",
        "\n"
      ]
    },
    {
      "cell_type": "code",
      "metadata": {
        "id": "SJ5wnV2pW_Bl"
      },
      "source": [
        "dataset['meanshift'] = meanshift.labels_\n",
        "\n",
        "# Analisis de componentes principales\n",
        "\n",
        "from sklearn.decomposition import PCA\n",
        "\n",
        "pca = PCA(n_components=2)\n",
        "pca.fit(X)\n",
        "pca_data = pca.transform(X)\n",
        "\n",
        "X = dataset.drop('species', axis=1)\n",
        "\n",
        "meanshift = MeanShift().fit(pca_data)"
      ],
      "execution_count": 4,
      "outputs": []
    },
    {
      "cell_type": "code",
      "metadata": {
        "colab": {
          "base_uri": "https://localhost:8080/",
          "height": 269
        },
        "id": "de0OpCA9Xl6l",
        "outputId": "a8cfcba0-b82f-4c51-954f-61393a56208e"
      },
      "source": [
        "import matplotlib.pyplot as plt\n",
        "\n",
        "plt.scatter(pca_data[:, 0], pca_data[:, 1],\n",
        "            c=meanshift.predict(pca_data))\n",
        "plt.scatter(meanshift.cluster_centers_[:, 0],\n",
        "            meanshift.cluster_centers_[:, 1],\n",
        "            c=['purple', 'cyan'], s=300)\n",
        "plt.show()"
      ],
      "execution_count": 5,
      "outputs": [
        {
          "output_type": "display_data",
          "data": {
            "image/png": "[encoded data removed]",
            "text/plain": [
              "<Figure size 432x288 with 1 Axes>"
            ]
          },
          "metadata": {
            "needs_background": "light"
          }
        }
      ]
    }
  ]
}